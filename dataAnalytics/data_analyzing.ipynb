{
 "cells": [
  {
   "cell_type": "code",
   "execution_count": null,
   "metadata": {},
   "outputs": [],
   "source": [
    "import pandas as pd\n",
    "import matplotlib.pyplot as plt\n",
    "from matplotlib.font_manager import FontProperties\n",
    "import numpy as np"
   ]
  },
  {
   "cell_type": "code",
   "execution_count": null,
   "metadata": {},
   "outputs": [],
   "source": [
    "# Excel ファイルの読み込み\n",
    "df = pd.read_excel('./analyze.xlsx', index_col=0) \n",
    "df.head()"
   ]
  },
  {
   "cell_type": "markdown",
   "metadata": {},
   "source": [
    "日本の経済成長(仮)とは平成11年を100として前年比を表す経済成長率から導出した値である。  \n",
    "また、グラフ描画等の関係上平成11年のデータは欠損させている。"
   ]
  },
  {
   "cell_type": "code",
   "execution_count": null,
   "metadata": {
    "scrolled": true
   },
   "outputs": [],
   "source": [
    "# 基本統計量の算出\n",
    "df.describe()"
   ]
  },
  {
   "cell_type": "markdown",
   "metadata": {},
   "source": [
    "* count : データ数\n",
    "* mean : 平均値\n",
    "* std : 標準偏差\n",
    "* min : 最小値\n",
    "* 25% : 第１四分位数(下から２５%に位置する値)\n",
    "* 50% : 中央値\n",
    "* 75% : 第３四分位数(下から７５%に位置する値)\n",
    "* max : 最大値"
   ]
  },
  {
   "cell_type": "markdown",
   "metadata": {},
   "source": [
    "### データのスライス（分割）"
   ]
  },
  {
   "cell_type": "code",
   "execution_count": null,
   "metadata": {},
   "outputs": [],
   "source": [
    "# 平均収入\n",
    "annual_income = df.iloc[:, 0]\n",
    "# 訪日外国人数\n",
    "foreign_visiter = df.iloc[:, 1]\n",
    "# 日本の経済成長(仮)\n",
    "GDP = df.iloc[:, 3] "
   ]
  },
  {
   "cell_type": "code",
   "execution_count": null,
   "metadata": {},
   "outputs": [],
   "source": [
    "fp = FontProperties(fname=r'C:/WINDOWS/Fonts/msgothic.ttc')\n",
    "# 横軸：平均年収、縦軸：訪日外国人数の散布図\n",
    "fig = plt.figure()\n",
    "ax1 = fig.add_subplot(111)\n",
    "ax1.scatter(annual_income, foreign_visiter, color=\"red\")\n",
    "ax1.set_xlabel(\"平均年収\", fontproperties=fp)\n",
    "ax1.set_ylabel(\"訪日外国人数\", fontproperties=fp)"
   ]
  },
  {
   "cell_type": "code",
   "execution_count": null,
   "metadata": {},
   "outputs": [],
   "source": [
    "# 横軸：経済成長(仮)、縦軸：訪日外国人数の散布図\n",
    "fig = plt.figure()\n",
    "ax1 = fig.add_subplot(111)\n",
    "ax1.scatter(GDP, foreign_visiter, color=\"red\")\n",
    "ax1.set_xlabel(u\"経済成長(仮)\", fontproperties=fp)\n",
    "ax1.set_ylabel(u\"訪日外国人数\", fontproperties=fp)"
   ]
  },
  {
   "cell_type": "code",
   "execution_count": null,
   "metadata": {},
   "outputs": [],
   "source": [
    "# 横軸：平均年収、縦軸：経済成長(仮)の散布図\n",
    "fig = plt.figure()\n",
    "ax1 = fig.add_subplot(111)\n",
    "ax1.scatter(annual_income, GDP, color=\"red\")\n",
    "ax1.set_xlabel(u\"平均年収\", fontproperties=fp)\n",
    "ax1.set_ylabel(u\"経済成長(仮)\", fontproperties=fp)"
   ]
  },
  {
   "cell_type": "code",
   "execution_count": null,
   "metadata": {},
   "outputs": [],
   "source": [
    "# 平成11年度のデータを削除\n",
    "GDP = GDP.drop(11)\n",
    "foreign_visiter = foreign_visiter.drop(11)\n",
    "annual_income = annual_income.drop(11)"
   ]
  },
  {
   "cell_type": "code",
   "execution_count": null,
   "metadata": {},
   "outputs": [],
   "source": [
    "# 3つのデータのリストを連結\n",
    "x = np.vstack([GDP, foreign_visiter, annual_income])"
   ]
  },
  {
   "cell_type": "code",
   "execution_count": null,
   "metadata": {},
   "outputs": [],
   "source": [
    "# 経済成長(仮)・訪日外国人数・平均年収の相関行列\n",
    "np.corrcoef(x)"
   ]
  },
  {
   "cell_type": "code",
   "execution_count": null,
   "metadata": {},
   "outputs": [],
   "source": [
    "# ２軸（縦軸：経済成長, 訪日外国人数   横軸：和暦）の線グラフ\n",
    "fig = plt.figure()\n",
    "\n",
    "ax1 = fig.add_subplot(111)\n",
    "ax1.plot(df.index.drop(11), GDP, 'red', label='経済成長(仮)')\n",
    "ax1.set_xticks(df.index.drop(11))\n",
    "ax2 = ax1.twinx()\n",
    "ax2.plot(df.index.drop(11), foreign_visiter, 'blue', label='訪日外国人数')\n",
    "\n",
    "h1, l1 = ax1.get_legend_handles_labels()\n",
    "h2, l2 = ax2.get_legend_handles_labels()\n",
    "ax1.legend(h1+h2, l1+l2, prop=fp, loc='upper left')\n",
    "\n",
    "ax1.set_xlabel('和暦', fontproperties=fp)\n",
    "ax1.set_ylabel('経済成長(仮)', fontproperties=fp)\n",
    "ax2.set_ylabel('訪日外国人数', fontproperties=fp)"
   ]
  },
  {
   "cell_type": "code",
   "execution_count": null,
   "metadata": {},
   "outputs": [],
   "source": [
    "# 平成19年度以降の平均収入\n",
    "annual_income = df.iloc[8:, 0]\n",
    "# 平成19年度以降の訪日外国人数\n",
    "foreign_visiter = df.iloc[8:, 1]\n",
    "# 平成19年度以降の日本の経済成長(仮)\n",
    "GDP = df.iloc[8:, 3]"
   ]
  },
  {
   "cell_type": "code",
   "execution_count": null,
   "metadata": {},
   "outputs": [],
   "source": [
    "# 平成19年度以降における3つのデータののリストを連結\n",
    "x = np.vstack([GDP, foreign_visiter, annual_income])"
   ]
  },
  {
   "cell_type": "code",
   "execution_count": null,
   "metadata": {
    "scrolled": true
   },
   "outputs": [],
   "source": [
    "np.corrcoef(x)"
   ]
  }
 ],
 "metadata": {
  "kernelspec": {
   "display_name": "Python 3",
   "language": "python",
   "name": "python3"
  },
  "language_info": {
   "codemirror_mode": {
    "name": "ipython",
    "version": 3
   },
   "file_extension": ".py",
   "mimetype": "text/x-python",
   "name": "python",
   "nbconvert_exporter": "python",
   "pygments_lexer": "ipython3",
   "version": "3.5.5"
  }
 },
 "nbformat": 4,
 "nbformat_minor": 2
}
