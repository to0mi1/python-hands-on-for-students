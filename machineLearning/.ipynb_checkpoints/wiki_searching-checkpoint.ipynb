{
 "cells": [
  {
   "cell_type": "code",
   "execution_count": null,
   "metadata": {},
   "outputs": [],
   "source": [
    "import gensim\n",
    "from gensim.corpora.wikicorpus import WikiCorpus\n",
    "from gensim.models.doc2vec import Doc2Vec, Doc2VecVocab, TaggedDocument\n",
    "from pprint import pprint\n",
    "import warnings"
   ]
  },
  {
   "cell_type": "markdown",
   "metadata": {},
   "source": [
    "※で囲まれたコードは時間の関係上今回は実行しません。\n",
    "\n",
    "※※※※※※※※※※※※※※※※※※※※※※※※※※※※※※※※※"
   ]
  },
  {
   "cell_type": "code",
   "execution_count": null,
   "metadata": {},
   "outputs": [],
   "source": [
    "# 日本語のwikipediaページを文章化したファイルからコーパス(DBのようなもの)を作成\n",
    "wiki = WikiCorpus('jawiki-latest-pages-articles.xml.bz2')"
   ]
  },
  {
   "cell_type": "code",
   "execution_count": null,
   "metadata": {},
   "outputs": [],
   "source": [
    "class TaggedWikiDocument(object): # wikipediaの本文とタイトルをタグ付けするメソッドの定義\n",
    "   def __init__(self, wiki):\n",
    "       self.wiki = wiki\n",
    "       self.wiki.metadata = True\n",
    "   def __iter__(self):\n",
    "       for content, (page_id, title) in self.wiki.get_texts():\n",
    "           yield TaggedDocument([c for c in content], [title])"
   ]
  },
  {
   "cell_type": "code",
   "execution_count": null,
   "metadata": {},
   "outputs": [],
   "source": [
    "document = TaggedWikiDocument(wiki)\n",
    "model = Doc2Vec(documents=document, dm=1, vector_size=400, window=8, min_count=10, epochs=10, workers=6) # モデルの生成と学習\n",
    "model.save('model/wikipedia.model') # 学習したモデルの保存"
   ]
  },
  {
   "cell_type": "markdown",
   "metadata": {},
   "source": [
    "※※※※※※※※※※※※※※※※※※※※※※※※※※※※※※※※※"
   ]
  },
  {
   "cell_type": "code",
   "execution_count": null,
   "metadata": {},
   "outputs": [],
   "source": [
    "model = gensim.models.Doc2Vec.load('model/wikipedia.model') # 学習済みモデルの読み込み"
   ]
  },
  {
   "cell_type": "code",
   "execution_count": null,
   "metadata": {},
   "outputs": [],
   "source": [
    "def search_similar_words(word): # word2vecのメソッド定義\n",
    "        print(word + ':')\n",
    "        for result in model.wv.most_similar(positive=word, topn=10):\n",
    "            print(result[0])"
   ]
  },
  {
   "cell_type": "code",
   "execution_count": null,
   "metadata": {},
   "outputs": [],
   "source": [
    "search_similar_words('週刊少年ジャンプ') # word2vecを使用して「週刊少年ジャンプ」と似た単語を列挙"
   ]
  },
  {
   "cell_type": "markdown",
   "metadata": {},
   "source": [
    "wikipediaに記載されている単語の前後関係において類似度が高いものが表示されている。"
   ]
  },
  {
   "cell_type": "code",
   "execution_count": null,
   "metadata": {},
   "outputs": [],
   "source": [
    "# Doc2vecを使用して「週刊少年ジャンプ」と似た内容を持つwikipediaのページを列挙\n",
    "pprint(model.docvecs.most_similar(['週刊少年ジャンプ']))"
   ]
  },
  {
   "cell_type": "markdown",
   "metadata": {},
   "source": [
    "wikipediaに記載されている文章の類似度が高いものが(タイトル, 類似度)という形式で表示されている。"
   ]
  }
 ],
 "metadata": {
  "kernelspec": {
   "display_name": "Python 3",
   "language": "python",
   "name": "python3"
  },
  "language_info": {
   "codemirror_mode": {
    "name": "ipython",
    "version": 3
   },
   "file_extension": ".py",
   "mimetype": "text/x-python",
   "name": "python",
   "nbconvert_exporter": "python",
   "pygments_lexer": "ipython3",
   "version": "3.5.5"
  }
 },
 "nbformat": 4,
 "nbformat_minor": 2
}
